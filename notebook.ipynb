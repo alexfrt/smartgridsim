{
 "cells": [
  {
   "cell_type": "code",
   "execution_count": null,
   "metadata": {},
   "outputs": [],
   "source": [
    "import os\n",
    "import warnings\n",
    "\n",
    "import matplotlib.pyplot as plt\n",
    "import numpy as np\n",
    "import xmltodict\n",
    "import scipy.stats\n",
    "from collections import OrderedDict\n"
   ]
  },
  {
   "cell_type": "code",
   "execution_count": null,
   "metadata": {},
   "outputs": [],
   "source": [
    "def calculate_series_statistics(series):\n",
    "    series = np.array(series)\n",
    "\n",
    "    mean = np.mean(series)\n",
    "    variance = np.var(series)\n",
    "    stddev = np.std(series)\n",
    "    ci95 = scipy.stats.sem(series) * scipy.stats.t.ppf((1 + 0.95) / 2., len(series)-1)\n",
    "    \n",
    "    return {\n",
    "        'mean':mean,\n",
    "        'variance':variance,\n",
    "        'stddev':stddev,\n",
    "        'ci95':ci95\n",
    "    }\n",
    "    "
   ]
  },
  {
   "cell_type": "code",
   "execution_count": null,
   "metadata": {},
   "outputs": [],
   "source": [
    "def calculate_trial_statistics(directory):\n",
    "    with open('%s/FlowMon.xml' % directory) as fd:\n",
    "        doc = xmltodict.parse(fd.read())\n",
    "\n",
    "    flows = doc['FlowMonitor']['FlowStats']['Flow']\n",
    "\n",
    "    loss = list()\n",
    "    delay = list()\n",
    "    jitter = list()\n",
    "\n",
    "    for flow in flows:\n",
    "        loss.append(100.0 * float(flow[u'@lostPackets']) / float(flow[u'@txPackets']))\n",
    "        if int(flow[u'@rxPackets']) > 1:\n",
    "            delay.append(float(flow[u'@delaySum'][1:-2]) / 1e6 / int(flow[u'@rxPackets']))\n",
    "            jitter.append(float(flow[u'@jitterSum'][1:-2]) / 1e6 / int(flow[u'@rxPackets']))\n",
    "\n",
    "    return np.mean(loss), np.mean(delay), np.mean(jitter)"
   ]
  },
  {
   "cell_type": "code",
   "execution_count": null,
   "metadata": {},
   "outputs": [],
   "source": [
    "def calculate_statistics_by_smartmeters_count(directory):\n",
    "    loss_trials_series = list()\n",
    "    delay_trials_series = list()\n",
    "    jitter_trials_series = list()\n",
    "    \n",
    "    for subdir in filter(lambda x: x.startswith('trial'), os.listdir(directory)):\n",
    "        trial_stats = calculate_trial_statistics(\"%s/%s\" % (directory, subdir))\n",
    "        loss_trials_series.append(trial_stats[0])\n",
    "        delay_trials_series.append(trial_stats[1])\n",
    "        jitter_trials_series.append(trial_stats[2])\n",
    "    \n",
    "    return {\n",
    "        'loss' : calculate_series_statistics(loss_trials_series),\n",
    "        'delay' : calculate_series_statistics(delay_trials_series),\n",
    "        'jitter' : calculate_series_statistics(jitter_trials_series)\n",
    "    }"
   ]
  },
  {
   "cell_type": "code",
   "execution_count": null,
   "metadata": {},
   "outputs": [],
   "source": [
    "def plot_statistics(data, metric):\n",
    "    labels=list()\n",
    "    values=list()\n",
    "    errors=list()\n",
    "\n",
    "    for n, stats in data.iteritems():\n",
    "        labels.append(n)\n",
    "        values.append(stats[metric]['mean'])\n",
    "        errors.append(stats[metric]['ci95'])\n",
    "\n",
    "    print labels\n",
    "    print values\n",
    "    print errors\n",
    "\n",
    "    fig, ax = plt.subplots()\n",
    "    ax.errorbar(labels, values, yerr=errors, ecolor='red')"
   ]
  },
  {
   "cell_type": "code",
   "execution_count": null,
   "metadata": {},
   "outputs": [],
   "source": [
    "data = OrderedDict()\n",
    "\n",
    "directory = '/home/alex/workspace/bake/source/ns-3.28/scratch/smartgrid5g/outputs'\n",
    "for subdir in filter(lambda x: x.endswith('-meters'), os.listdir(directory)):\n",
    "    stats = calculate_statistics_by_smartmeters_count(\"%s/%s\" % (directory, subdir))\n",
    "    numberOfSmartMeters = int(subdir[:-len('-meters')])\n",
    "    data[numberOfSmartMeters] = stats\n",
    "\n",
    "print data"
   ]
  },
  {
   "cell_type": "code",
   "execution_count": null,
   "metadata": {},
   "outputs": [],
   "source": [
    "plot_statistics(data, 'delay')"
   ]
  },
  {
   "cell_type": "code",
   "execution_count": null,
   "metadata": {},
   "outputs": [],
   "source": [
    "plot_statistics(data, 'jitter')"
   ]
  },
  {
   "cell_type": "code",
   "execution_count": null,
   "metadata": {},
   "outputs": [],
   "source": [
    "plot_statistics(data, 'loss')"
   ]
  },
  {
   "cell_type": "code",
   "execution_count": null,
   "metadata": {},
   "outputs": [],
   "source": []
  }
 ],
 "metadata": {
  "kernelspec": {
   "display_name": "Python 2",
   "language": "python",
   "name": "python2"
  },
  "language_info": {
   "codemirror_mode": {
    "name": "ipython",
    "version": 2
   },
   "file_extension": ".py",
   "mimetype": "text/x-python",
   "name": "python",
   "nbconvert_exporter": "python",
   "pygments_lexer": "ipython2",
   "version": "2.7.15rc1"
  }
 },
 "nbformat": 4,
 "nbformat_minor": 2
}
