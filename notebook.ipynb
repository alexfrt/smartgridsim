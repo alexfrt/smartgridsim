{
 "cells": [
  {
   "cell_type": "code",
   "execution_count": null,
   "metadata": {},
   "outputs": [],
   "source": [
    "import os\n",
    "import warnings\n",
    "\n",
    "import matplotlib.pyplot as plt\n",
    "import numpy as np\n",
    "import xmltodict\n",
    "import scipy.stats\n",
    "from collections import OrderedDict\n"
   ]
  },
  {
   "cell_type": "code",
   "execution_count": null,
   "metadata": {},
   "outputs": [],
   "source": [
    "def calculate_series_statistics(series):\n",
    "    series = np.array(series)\n",
    "\n",
    "    mean = np.mean(series)\n",
    "    variance = np.var(series)\n",
    "    stddev = np.std(series)\n",
    "    ci95 = scipy.stats.sem(series) * scipy.stats.t.ppf((1 + 0.95) / 2., len(series)-1)\n",
    "    \n",
    "    return {\n",
    "        'mean':mean,\n",
    "        'variance':variance,\n",
    "        'stddev':stddev,\n",
    "        'ci95':ci95\n",
    "    }\n",
    "    "
   ]
  },
  {
   "cell_type": "code",
   "execution_count": null,
   "metadata": {},
   "outputs": [],
   "source": [
    "def calculate_trial_statistics(directory):\n",
    "    with open('%s/FlowMon.xml' % directory) as fd:\n",
    "        doc = xmltodict.parse(fd.read())\n",
    "\n",
    "    flows = doc['FlowMonitor']['FlowStats']['Flow']\n",
    "\n",
    "    loss = list()\n",
    "    delay = list()\n",
    "    jitter = list()\n",
    "\n",
    "    for flow in flows:\n",
    "        loss.append(100.0 * float(flow[u'@lostPackets']) / float(flow[u'@txPackets']))\n",
    "        if int(flow[u'@rxPackets']) > 1:\n",
    "            delay.append(float(flow[u'@delaySum'][1:-2]) / 1e6 / int(flow[u'@rxPackets']))\n",
    "            jitter.append(float(flow[u'@jitterSum'][1:-2]) / 1e6 / int(flow[u'@rxPackets']))\n",
    "\n",
    "    return np.mean(loss), np.mean(delay), np.mean(jitter)"
   ]
  },
  {
   "cell_type": "code",
   "execution_count": null,
   "metadata": {},
   "outputs": [],
   "source": [
    "def calculate_statistics_by_smartmeters_count(directory):\n",
    "    loss_trials_series = list()\n",
    "    delay_trials_series = list()\n",
    "    jitter_trials_series = list()\n",
    "    \n",
    "    for subdir in filter(lambda x: x.startswith('trial'), os.listdir(directory)):\n",
    "        trial_stats = calculate_trial_statistics(\"%s/%s\" % (directory, subdir))\n",
    "        loss_trials_series.append(trial_stats[0])\n",
    "        delay_trials_series.append(trial_stats[1])\n",
    "        jitter_trials_series.append(trial_stats[2])\n",
    "    \n",
    "    return {\n",
    "        'loss' : calculate_series_statistics(loss_trials_series),\n",
    "        'delay' : calculate_series_statistics(delay_trials_series),\n",
    "        'jitter' : calculate_series_statistics(jitter_trials_series)\n",
    "    }"
   ]
  },
  {
   "cell_type": "code",
   "execution_count": null,
   "metadata": {},
   "outputs": [],
   "source": [
    "def plot_statistics(data, metric, xlabel, ylabel, seriesformat, title):\n",
    "    fig, ax = plt.subplots()\n",
    "    \n",
    "    ax.set_xlabel(xlabel)\n",
    "    ax.set_ylabel(ylabel)\n",
    "    ax.set_title(title)\n",
    "    \n",
    "    series_handles = list()\n",
    "    series_labels = list()\n",
    "    \n",
    "    line_styles = ['solid', 'dashed', 'dashdot', 'dotted']\n",
    "    colors = ['#24d6d6', '#2424d6', '#d6d624']\n",
    "    i = 2\n",
    "    \n",
    "    for series, series_stats in data.iteritems():   \n",
    "        labels=list()\n",
    "        values=list()\n",
    "        errors=list()\n",
    "\n",
    "        for n, stats in series_stats.iteritems():\n",
    "            labels.append(n)\n",
    "            values.append(stats[metric]['mean'])\n",
    "            errors.append(stats[metric]['ci95'])\n",
    "\n",
    "        style = line_styles[i%len(line_styles)]\n",
    "        color = colors[i%len(colors)]\n",
    "        \n",
    "        e = ax.errorbar(labels, values, yerr=errors, color=color, ecolor='#d62424', linestyle=style, marker='.', linewidth=3, ms=15, elinewidth=1.5)\n",
    "        \n",
    "        series_handles.append(e)\n",
    "        series_labels.append(seriesformat.format(series))\n",
    "        \n",
    "        i += 1\n",
    "    \n",
    "    ax.legend(series_handles, series_labels, loc=2)"
   ]
  },
  {
   "cell_type": "code",
   "execution_count": null,
   "metadata": {},
   "outputs": [],
   "source": [
    "dataByAggPercentage = dict()\n",
    "\n",
    "basedir = '/home/alex/workspace/bake/source/ns-3.28/scratch/smartgrid5g/outputs'\n",
    "for directory in filter(lambda x: x.startswith('agg'), os.listdir(basedir)):\n",
    "    data = dict()\n",
    "    for subdir in filter(lambda x: x.endswith('-meters'), os.listdir(\"%s/%s\" % (basedir, directory))):\n",
    "        stats = calculate_statistics_by_smartmeters_count(\"%s/%s/%s\" % (basedir, directory, subdir))\n",
    "        numberOfSmartMeters = int(subdir[:-len('-meters')])\n",
    "        data[numberOfSmartMeters] = stats\n",
    "    data = OrderedDict(sorted(data.items(), key=lambda x: x[0]))\n",
    "    dataByAggPercentage[int(directory[3:])] = data\n"
   ]
  },
  {
   "cell_type": "code",
   "execution_count": null,
   "metadata": {},
   "outputs": [],
   "source": [
    "plot_statistics(dataByAggPercentage, 'delay', '# Smart Meters', 'Delay (ms)', '{}% aggregation', 'Perceived delay')"
   ]
  },
  {
   "cell_type": "code",
   "execution_count": null,
   "metadata": {},
   "outputs": [],
   "source": [
    "plot_statistics(dataByAggPercentage, 'jitter', '# Smart Meters', 'Jitter (ms)', '{}% aggregation', 'Perceived jitter')"
   ]
  },
  {
   "cell_type": "code",
   "execution_count": null,
   "metadata": {},
   "outputs": [],
   "source": [
    "plot_statistics(dataByAggPercentage, 'loss', '# Smart Meters', 'Loss %', '{}% aggregation', 'Perceived loss')"
   ]
  },
  {
   "cell_type": "code",
   "execution_count": null,
   "metadata": {},
   "outputs": [],
   "source": []
  }
 ],
 "metadata": {
  "kernelspec": {
   "display_name": "Python 2",
   "language": "python",
   "name": "python2"
  },
  "language_info": {
   "codemirror_mode": {
    "name": "ipython",
    "version": 2
   },
   "file_extension": ".py",
   "mimetype": "text/x-python",
   "name": "python",
   "nbconvert_exporter": "python",
   "pygments_lexer": "ipython2",
   "version": "2.7.15rc1"
  }
 },
 "nbformat": 4,
 "nbformat_minor": 2
}
